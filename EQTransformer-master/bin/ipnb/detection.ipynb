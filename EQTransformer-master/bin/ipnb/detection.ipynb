{
 "cells": [
  {
   "cell_type": "markdown",
   "metadata": {},
   "source": [
    "源代码修改过的部分：1.mseed_predictor修改了会造成import报错的'break';2.predictor中，279行csv.writer中增加newline=''，修改了会导致csv文件间隔一行输入的bug"
   ]
  },
  {
   "cell_type": "code",
   "execution_count": 1,
   "metadata": {
    "scrolled": true
   },
   "outputs": [],
   "source": [
    "import h5py\n",
    "from EQTransformer.core.predictor import predictor\n",
    "\n",
    "#f = h5py.File(\"../data/prediction/traces.hdf5\",\"r\")"
   ]
  },
  {
   "cell_type": "code",
   "execution_count": 4,
   "metadata": {},
   "outputs": [
    {
     "name": "stdout",
     "output_type": "stream",
     "text": [
      "============================================================================\n",
      "Running EqTransformer  None\n",
      " *** Loading the model ...\n",
      "*** Loading is complete!\n",
      "============================================================================\n",
      " *** /home/fanglh/work/200902EQTransformer-master/bin/../detections1 already exists!\n",
      " --> Type (Yes or y) to create a new empty directory! otherwise it will overwrite!   y\n",
      "######### There are files for 1 stations in ../data/prediction directory. #########\n",
      "========= Started working on traces, 1 out of 1 ...\n",
      "  0%|                                                                         | 0/1 [00:00<?, ?it/s]WARNING:tensorflow:multiprocessing can interact badly with TensorFlow, causing nondeterministic deadlocks. For high performance data pipelines tf.data is recommended.\n",
      "WARNING:tensorflow:multiprocessing can interact badly with TensorFlow, causing nondeterministic deadlocks. For high performance data pipelines tf.data is recommended.\n",
      "\n",
      "\n",
      " *** Finished the prediction in: 0 hours and 0 minutes and 25.16 seconds.\n",
      " *** Detected: 14 events.\n",
      " *** Wrote the results into --> \" /home/fanglh/work/200902EQTransformer-master/bin/../detections1/traces_outputs \"\n",
      "100%|█████████████████████████████████████████████████████████████████| 1/1 [00:25<00:00, 25.16s/it]\n"
     ]
    }
   ],
   "source": [
    "predictor(input_dir='../data/prediction',   \n",
    "         input_model='../data/EqT_model.h5',\n",
    "         output_dir='../detections1',\n",
    "         estimate_uncertainty=False, \n",
    "         output_probabilities=True,\n",
    "         number_of_sampling=5,\n",
    "         loss_weights=[0.02, 0.40, 0.58],          \n",
    "         detection_threshold=0.01,                \n",
    "         P_threshold=0.1,\n",
    "         S_threshold=0.1, \n",
    "         number_of_plots=30,\n",
    "         plot_mode='time',\n",
    "         batch_size=500,\n",
    "         number_of_cpus=4,\n",
    "         keepPS=False,\n",
    "         spLimit=60) "
   ]
  },
  {
   "cell_type": "code",
   "execution_count": 2,
   "metadata": {},
   "outputs": [
    {
     "name": "stdout",
     "output_type": "stream",
     "text": [
      "============================================================================\n",
      "Running EqTransformer  None\n",
      " *** Loading the model ...\n",
      "*** Loading is complete!\n",
      "============================================================================\n",
      " *** E:\\Working_Documents\\200902EQTransformer-master\\bin\\../detections1 already exists!\n",
      " --> Type (Yes or y) to create a new empty directory! otherwise it will overwrite!   y\n",
      "######### There are files for 1 stations in ../data/ModelsAndSampleData directory. #########\n",
      "========= Started working on 100samples, 1 out of 1 ...\n",
      "  0%|                                                                         | 0/1 [00:00<?, ?it/s]<HDF5 dataset \"109C.TA_20060723155859_EV\": shape (6000, 3), type \"<f4\">\n",
      "<HDF5 dataset \"109C.TA_20061103155652_EV\": shape (6000, 3), type \"<f4\">\n",
      "<HDF5 dataset \"109C.TA_20061103161223_EV\": shape (6000, 3), type \"<f4\">\n",
      "<HDF5 dataset \"109C.TA_20061114133221_EV\": shape (6000, 3), type \"<f4\">\n",
      "<HDF5 dataset \"109C.TA_20061127104640_EV\": shape (6000, 3), type \"<f4\">\n",
      "<HDF5 dataset \"109C.TA_20061129121745_EV\": shape (6000, 3), type \"<f4\">\n",
      "<HDF5 dataset \"109C.TA_20061129211102_EV\": shape (6000, 3), type \"<f4\">\n",
      "<HDF5 dataset \"109C.TA_20061129211301_EV\": shape (6000, 3), type \"<f4\">\n",
      "<HDF5 dataset \"109C.TA_20061129221547_EV\": shape (6000, 3), type \"<f4\">\n",
      "<HDF5 dataset \"109C.TA_20070109140205_EV\": shape (6000, 3), type \"<f4\">\n",
      "<HDF5 dataset \"109C.TA_20070117160753_EV\": shape (6000, 3), type \"<f4\">\n",
      "<HDF5 dataset \"109C.TA_20070209033349_EV\": shape (6000, 3), type \"<f4\">\n",
      "<HDF5 dataset \"109C.TA_20070226181833_EV\": shape (6000, 3), type \"<f4\">\n",
      "<HDF5 dataset \"109C.TA_20070301143752_EV\": shape (6000, 3), type \"<f4\">\n",
      "<HDF5 dataset \"109C.TA_20070306033340_EV\": shape (6000, 3), type \"<f4\">\n",
      "<HDF5 dataset \"109C.TA_20070415225732_EV\": shape (6000, 3), type \"<f4\">\n",
      "<HDF5 dataset \"109C.TA_20070416034531_EV\": shape (6000, 3), type \"<f4\">\n",
      "<HDF5 dataset \"109C.TA_20070418093344_EV\": shape (6000, 3), type \"<f4\">\n",
      "<HDF5 dataset \"109C.TA_20070418222316_EV\": shape (6000, 3), type \"<f4\">\n",
      "<HDF5 dataset \"109C.TA_20070419113340_EV\": shape (6000, 3), type \"<f4\">\n",
      "<HDF5 dataset \"109C.TA_20070419120129_EV\": shape (6000, 3), type \"<f4\">\n",
      "<HDF5 dataset \"109C.TA_20070525113536_EV\": shape (6000, 3), type \"<f4\">\n",
      "<HDF5 dataset \"109C.TA_20070525114806_EV\": shape (6000, 3), type \"<f4\">\n",
      "<HDF5 dataset \"109C.TA_20070608061311_EV\": shape (6000, 3), type \"<f4\">\n",
      "<HDF5 dataset \"109C.TA_20070609212927_EV\": shape (6000, 3), type \"<f4\">\n",
      "<HDF5 dataset \"109C.TA_20070610114701_EV\": shape (6000, 3), type \"<f4\">\n",
      "<HDF5 dataset \"109C.TA_20070610115123_EV\": shape (6000, 3), type \"<f4\">\n",
      "<HDF5 dataset \"109C.TA_20070610234242_EV\": shape (6000, 3), type \"<f4\">\n",
      "<HDF5 dataset \"109C.TA_20070612100856_EV\": shape (6000, 3), type \"<f4\">\n",
      "<HDF5 dataset \"109C.TA_20070613030646_EV\": shape (6000, 3), type \"<f4\">\n",
      "<HDF5 dataset \"109C.TA_20070616163138_EV\": shape (6000, 3), type \"<f4\">\n",
      "<HDF5 dataset \"109C.TA_20070617203107_EV\": shape (6000, 3), type \"<f4\">\n",
      "<HDF5 dataset \"109C.TA_20070623050227_EV\": shape (6000, 3), type \"<f4\">\n",
      "<HDF5 dataset \"109C.TA_20070627010414_EV\": shape (6000, 3), type \"<f4\">\n",
      "<HDF5 dataset \"109C.TA_20070628195508_EV\": shape (6000, 3), type \"<f4\">\n",
      "<HDF5 dataset \"109C.TA_20070630182442_EV\": shape (6000, 3), type \"<f4\">\n",
      "<HDF5 dataset \"109C.TA_20070703234657_EV\": shape (6000, 3), type \"<f4\">\n",
      "<HDF5 dataset \"109C.TA_20070705115037_EV\": shape (6000, 3), type \"<f4\">\n",
      "<HDF5 dataset \"109C.TA_20070706182900_EV\": shape (6000, 3), type \"<f4\">\n",
      "<HDF5 dataset \"109C.TA_20070706203254_EV\": shape (6000, 3), type \"<f4\">\n",
      "<HDF5 dataset \"109C.TA_20070710115911_EV\": shape (6000, 3), type \"<f4\">\n",
      "<HDF5 dataset \"109C.TA_20070718142549_EV\": shape (6000, 3), type \"<f4\">\n",
      "<HDF5 dataset \"109C.TA_20070723172934_EV\": shape (6000, 3), type \"<f4\">\n",
      "<HDF5 dataset \"109C.TA_20070725023935_EV\": shape (6000, 3), type \"<f4\">\n",
      "<HDF5 dataset \"109C.TA_20070728015508_EV\": shape (6000, 3), type \"<f4\">\n",
      "<HDF5 dataset \"109C.TA_20070728222626_EV\": shape (6000, 3), type \"<f4\">\n",
      "<HDF5 dataset \"109C.TA_20070801032036_EV\": shape (6000, 3), type \"<f4\">\n",
      "<HDF5 dataset \"109C.TA_20070804103313_EV\": shape (6000, 3), type \"<f4\">\n",
      "<HDF5 dataset \"109C.TA_20070804235617_EV\": shape (6000, 3), type \"<f4\">\n",
      "<HDF5 dataset \"109C.TA_20070805160423_EV\": shape (6000, 3), type \"<f4\">\n",
      "<HDF5 dataset \"109C.TA_20070808104627_EV\": shape (6000, 3), type \"<f4\">\n",
      "<HDF5 dataset \"109C.TA_20070810001636_EV\": shape (6000, 3), type \"<f4\">\n",
      "<HDF5 dataset \"109C.TA_20070817031921_EV\": shape (6000, 3), type \"<f4\">\n",
      "<HDF5 dataset \"109C.TA_20070817062800_EV\": shape (6000, 3), type \"<f4\">\n",
      "<HDF5 dataset \"109C.TA_20070818153931_EV\": shape (6000, 3), type \"<f4\">\n",
      "<HDF5 dataset \"109C.TA_20070820195053_EV\": shape (6000, 3), type \"<f4\">\n",
      "<HDF5 dataset \"109C.TA_20070825050252_EV\": shape (6000, 3), type \"<f4\">\n",
      "<HDF5 dataset \"109C.TA_20070829041354_EV\": shape (6000, 3), type \"<f4\">\n",
      "<HDF5 dataset \"109C.TA_20070830095302_EV\": shape (6000, 3), type \"<f4\">\n",
      "<HDF5 dataset \"109C.TA_20070830144445_EV\": shape (6000, 3), type \"<f4\">\n",
      "<HDF5 dataset \"109C.TA_20070831232704_EV\": shape (6000, 3), type \"<f4\">\n",
      "<HDF5 dataset \"109C.TA_20070902212027_EV\": shape (6000, 3), type \"<f4\">\n",
      "<HDF5 dataset \"109C.TA_20070903102652_EV\": shape (6000, 3), type \"<f4\">\n",
      "<HDF5 dataset \"109C.TA_20070903180819_EV\": shape (6000, 3), type \"<f4\">\n",
      "<HDF5 dataset \"109C.TA_20070904035230_EV\": shape (6000, 3), type \"<f4\">\n",
      "<HDF5 dataset \"109C.TA_20070904094710_EV\": shape (6000, 3), type \"<f4\">\n",
      "<HDF5 dataset \"109C.TA_20070904124836_EV\": shape (6000, 3), type \"<f4\">\n",
      "<HDF5 dataset \"109C.TA_20070904144754_EV\": shape (6000, 3), type \"<f4\">\n",
      "<HDF5 dataset \"109C.TA_20070904204109_EV\": shape (6000, 3), type \"<f4\">\n",
      "<HDF5 dataset \"109C.TA_20070904210122_EV\": shape (6000, 3), type \"<f4\">\n",
      "<HDF5 dataset \"109C.TA_20070905042031_EV\": shape (6000, 3), type \"<f4\">\n",
      "<HDF5 dataset \"109C.TA_20070905043127_EV\": shape (6000, 3), type \"<f4\">\n",
      "<HDF5 dataset \"109C.TA_20070905051107_EV\": shape (6000, 3), type \"<f4\">\n",
      "<HDF5 dataset \"109C.TA_20070905073254_EV\": shape (6000, 3), type \"<f4\">\n",
      "<HDF5 dataset \"109C.TA_20070905204756_EV\": shape (6000, 3), type \"<f4\">\n",
      "<HDF5 dataset \"109C.TA_20070907191015_EV\": shape (6000, 3), type \"<f4\">\n",
      "<HDF5 dataset \"109C.TA_20070907214730_EV\": shape (6000, 3), type \"<f4\">\n",
      "<HDF5 dataset \"109C.TA_20070909014809_EV\": shape (6000, 3), type \"<f4\">\n",
      "<HDF5 dataset \"109C.TA_20070909020048_EV\": shape (6000, 3), type \"<f4\">\n",
      "<HDF5 dataset \"109C.TA_20070909131147_EV\": shape (6000, 3), type \"<f4\">\n",
      "<HDF5 dataset \"109C.TA_20070909141011_EV\": shape (6000, 3), type \"<f4\">\n",
      "<HDF5 dataset \"109C.TA_20070909151455_EV\": shape (6000, 3), type \"<f4\">\n",
      "<HDF5 dataset \"109C.TA_20070909170829_EV\": shape (6000, 3), type \"<f4\">\n",
      "<HDF5 dataset \"109C.TA_20070909193516_EV\": shape (6000, 3), type \"<f4\">\n",
      "<HDF5 dataset \"109C.TA_20070910043524_EV\": shape (6000, 3), type \"<f4\">\n",
      "<HDF5 dataset \"109C.TA_20070910084301_EV\": shape (6000, 3), type \"<f4\">\n",
      "<HDF5 dataset \"109C.TA_20070910232331_EV\": shape (6000, 3), type \"<f4\">\n",
      "<HDF5 dataset \"109C.TA_20070911012817_EV\": shape (6000, 3), type \"<f4\">\n",
      "<HDF5 dataset \"109C.TA_20070911071012_EV\": shape (6000, 3), type \"<f4\">\n",
      "<HDF5 dataset \"109C.TA_20070912073736_EV\": shape (6000, 3), type \"<f4\">\n",
      "<HDF5 dataset \"109C.TA_20070912081129_EV\": shape (6000, 3), type \"<f4\">\n",
      "<HDF5 dataset \"109C.TA_20070912081130_EV\": shape (6000, 3), type \"<f4\">\n",
      "<HDF5 dataset \"109C.TA_20070913131106_EV\": shape (6000, 3), type \"<f4\">\n",
      "<HDF5 dataset \"109C.TA_20070914042447_EV\": shape (6000, 3), type \"<f4\">\n",
      "<HDF5 dataset \"109C.TA_20070914184024_EV\": shape (6000, 3), type \"<f4\">\n",
      "<HDF5 dataset \"109C.TA_20070916013820_EV\": shape (6000, 3), type \"<f4\">\n",
      "<HDF5 dataset \"109C.TA_20070918200217_EV\": shape (6000, 3), type \"<f4\">\n",
      "<HDF5 dataset \"109C.TA_20070929223709_EV\": shape (6000, 3), type \"<f4\">\n",
      "<HDF5 dataset \"109C.TA_20070930010344_EV\": shape (6000, 3), type \"<f4\">\n",
      "<HDF5 dataset \"109C.TA_20070930222739_EV\": shape (6000, 3), type \"<f4\">\n",
      "\n",
      "\n",
      " *** Finished the prediction in: 0 hours and 0 minutes and 55.18 seconds.\n",
      " *** Detected: 99 events.\n",
      " *** Wrote the results into --> \" E:\\Working_Documents\\200902EQTransformer-master\\bin\\../detections1\\100samples_outputs \"\n",
      "100%|█████████████████████████████████████████████████████████████████| 1/1 [00:54<00:00, 54.30s/it]\n"
     ]
    }
   ],
   "source": [
    "predictor(input_dir='../data/ModelsAndSampleData',   \n",
    "         input_model='../data/EqT_model.h5',\n",
    "         output_dir='../detections1',\n",
    "         estimate_uncertainty=False, \n",
    "         output_probabilities=False,\n",
    "         number_of_sampling=5,\n",
    "         loss_weights=[0.02, 0.40, 0.58],          \n",
    "         detection_threshold=0.3,                \n",
    "         P_threshold=0.1,\n",
    "         S_threshold=0.1, \n",
    "         number_of_plots=10,\n",
    "         plot_mode='time',\n",
    "         batch_size=500,\n",
    "         number_of_cpus=4,\n",
    "         keepPS=False,\n",
    "         spLimit=60) "
   ]
  },
  {
   "cell_type": "code",
   "execution_count": 2,
   "metadata": {},
   "outputs": [
    {
     "data": {
      "text/plain": [
       "0.05955258"
      ]
     },
     "execution_count": 2,
     "metadata": {},
     "output_type": "execute_result"
    }
   ],
   "source": [
    "import matplotlib.pyplot as plt\n",
    "import h5py\n",
    "f = h5py.File(\"../detections1/traces_outputs/prediction_probabilities.hdf5\",\"r\")\n",
    "max(f['probabilities']['GUL.GD_201701012310_EV'][:,0])"
   ]
  },
  {
   "cell_type": "code",
   "execution_count": 18,
   "metadata": {},
   "outputs": [
    {
     "data": {
      "image/png": "[encoded data removed]",
      "text/plain": [
       "<Figure size 432x288 with 1 Axes>"
      ]
     },
     "metadata": {
      "needs_background": "light"
     },
     "output_type": "display_data"
    }
   ],
   "source": [
    "plt.plot(f['probabilities']['LVY.GD_201701012310_EV'][:,0])\n",
    "plt.show()"
   ]
  },
  {
   "cell_type": "code",
   "execution_count": 17,
   "metadata": {},
   "outputs": [
    {
     "data": {
      "text/plain": [
       "[<matplotlib.lines.Line2D at 0x551a448>]"
      ]
     },
     "execution_count": 17,
     "metadata": {},
     "output_type": "execute_result"
    },
    {
     "data": {
      "image/png": "[encoded data removed]",
      "text/plain": [
       "<Figure size 432x288 with 1 Axes>"
      ]
     },
     "metadata": {
      "needs_background": "light"
     },
     "output_type": "display_data"
    }
   ],
   "source": [
    "f2 = h5py.File(\"../data/prediction/traces.hdf5\",\"r\")\n",
    "plt.plot(f2['data']['LVY.GD_201701012310_EV'][:,2])"
   ]
  },
  {
   "cell_type": "code",
   "execution_count": 12,
   "metadata": {},
   "outputs": [
    {
     "data": {
      "text/plain": [
       "<KeysViewHDF5 ['BLT.GD_201701012309_EV', 'BLT.GD_201701012310_EV', 'BLT.GD_201701020035_EV', 'BLT.GD_201701020116_EV', 'BLT.GD_201701020121_EV', 'BLT.GD_201701020137_EV', 'BLT.GD_201701020205_EV', 'BLT.GD_201701020255_EV', 'DFH.GD_201701020035_EV', 'DFH.GD_201701020116_EV', 'DFH.GD_201701020137_EV', 'DFH.GD_201701020255_EV', 'DOX.GD_201701012309_EV', 'DOX.GD_201701012310_EV', 'DOX.GD_201701020035_EV', 'DOX.GD_201701020049_EV', 'DOX.GD_201701020116_EV', 'DOX.GD_201701020119_EV', 'DOX.GD_201701020121_EV', 'DOX.GD_201701020137_EV', 'DOX.GD_201701020205_EV', 'DOX.GD_201701020255_EV', 'DOY.GD_201701012309_EV', 'DOY.GD_201701012310_EV', 'DOY.GD_201701020035_EV', 'DOY.GD_201701020049_EV', 'DOY.GD_201701020116_EV', 'DOY.GD_201701020119_EV', 'DOY.GD_201701020121_EV', 'DOY.GD_201701020137_EV', 'DOY.GD_201701020200_EV', 'DOY.GD_201701020205_EV', 'DOY.GD_201701020255_EV', 'GUL.GD_201701012309_EV', 'GUL.GD_201701012310_EV', 'GUL.GD_201701020035_EV', 'GUL.GD_201701020116_EV', 'GUL.GD_201701020137_EV', 'GUL.GD_201701020255_EV', 'HEP.GD_201701020255_EV', 'HUZ.GD_201701020035_EV', 'HYJ.GD_201701012309_EV', 'HYJ.GD_201701012310_EV', 'HYJ.GD_201701020035_EV', 'HYJ.GD_201701020049_EV', 'HYJ.GD_201701020116_EV', 'HYJ.GD_201701020119_EV', 'HYJ.GD_201701020121_EV', 'HYJ.GD_201701020137_EV', 'HYJ.GD_201701020200_EV', 'HYJ.GD_201701020205_EV', 'HYJ.GD_201701020255_EV', 'LIP.GD_201701012309_EV', 'LIP.GD_201701012310_EV', 'LIP.GD_201701020035_EV', 'LIP.GD_201701020116_EV', 'LTK.GD_201701012310_EV', 'LTK.GD_201701020035_EV', 'LTK.GD_201701020116_EV', 'LTK.GD_201701020255_EV', 'LVY.GD_201701012309_EV', 'LVY.GD_201701012310_EV', 'LVY.GD_201701020035_EV', 'LVY.GD_201701020049_EV', 'LVY.GD_201701020116_EV', 'LVY.GD_201701020121_EV', 'LVY.GD_201701020137_EV', 'LVY.GD_201701020200_EV', 'LVY.GD_201701020205_EV', 'LVY.GD_201701020255_EV', 'QZI.GD_201701012309_EV', 'QZI.GD_201701012310_EV', 'QZI.GD_201701020035_EV', 'QZI.GD_201701020049_EV', 'QZI.GD_201701020116_EV', 'QZI.GD_201701020119_EV', 'QZI.GD_201701020121_EV', 'QZI.GD_201701020137_EV', 'QZI.GD_201701020200_EV', 'QZI.GD_201701020205_EV', 'QZI.GD_201701020255_EV', 'XFJ.GD_201701012309_EV', 'XFJ.GD_201701012310_EV', 'XFJ.GD_201701020035_EV', 'XFJ.GD_201701020116_EV', 'XFJ.GD_201701020119_EV', 'XFJ.GD_201701020137_EV', 'XFJ.GD_201701020255_EV', 'YAM.GD_201701012309_EV', 'YAM.GD_201701012310_EV', 'YAM.GD_201701020035_EV', 'YAM.GD_201701020049_EV', 'YAM.GD_201701020116_EV', 'YAM.GD_201701020121_EV', 'YAM.GD_201701020137_EV', 'YAM.GD_201701020205_EV', 'YAM.GD_201701020255_EV', 'ZHX.GD_201701012309_EV', 'ZHX.GD_201701012310_EV', 'ZHX.GD_201701020035_EV', 'ZHX.GD_201701020049_EV', 'ZHX.GD_201701020116_EV', 'ZHX.GD_201701020119_EV', 'ZHX.GD_201701020121_EV', 'ZHX.GD_201701020137_EV', 'ZHX.GD_201701020200_EV', 'ZHX.GD_201701020205_EV', 'ZHX.GD_201701020255_EV', 'ZIJ.GD_201701020116_EV']>"
      ]
     },
     "execution_count": 12,
     "metadata": {},
     "output_type": "execute_result"
    }
   ],
   "source": [
    "f2['data'].keys()"
   ]
  }
 ],
 "metadata": {
  "kernelspec": {
   "display_name": "Python 3",
   "language": "python",
   "name": "python3"
  },
  "language_info": {
   "codemirror_mode": {
    "name": "ipython",
    "version": 3
   },
   "file_extension": ".py",
   "mimetype": "text/x-python",
   "name": "python",
   "nbconvert_exporter": "python",
   "pygments_lexer": "ipython3",
   "version": "3.7.8"
  }
 },
 "nbformat": 4,
 "nbformat_minor": 4
}
