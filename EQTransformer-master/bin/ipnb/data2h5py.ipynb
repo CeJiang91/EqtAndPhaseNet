{
 "cells": [
  {
   "cell_type": "code",
   "execution_count": 1,
   "metadata": {},
   "outputs": [],
   "source": [
    "import time\n",
    "start = time.process_time()\n",
    "from obspy import read\n",
    "import numpy as np\n",
    "import glob\n",
    "import os, math\n",
    "import matplotlib.pyplot as plt\n",
    "import h5py\n",
    "import csv\n",
    "from os.path import join\n",
    "\n",
    "seed_path = r'../data/wave100'\n",
    "pre_dir = '../data/prediction'\n",
    "train_data_path = r'../data/train_data/'\n",
    "seed_files = glob.glob(r'%s/*.seed' %seed_path) \n",
    "net_phases = np.load('../data/train_data/seismic_phase.npy',allow_pickle=True).item()"
   ]
  },
  {
   "cell_type": "markdown",
   "metadata": {},
   "source": [
    "# 数据处理逻辑\n",
    "1.读取文件名,波形数据和文件（事件）对应的震相数据\n",
    "2.遍历波形\n",
    "3.若该文件（事件）对应的震相数据中包含波形对应的台站，且其震相类型为P，则保存该数据\n",
    "4.波形序列号为trn，P波到时为p_t,波形范围是[pt-10,pt+50]，故pt在截取后对应点为1001\n",
    "5.预处理（去倾，滤波，归一化），滤波频带为[3,20]"
   ]
  },
  {
   "cell_type": "code",
   "execution_count": 2,
   "metadata": {
    "scrolled": true
   },
   "outputs": [],
   "source": [
    "trn = 0\n",
    "for file in seed_files:\n",
    "    fn=os.path.basename(file).split('.seed')[0]\n",
    "    waves = read(file)\n",
    "    event_phases = net_phases[fn]\n",
    "    for tr in waves:\n",
    "        if (event_phases.keys().__contains__(tr.stats.station)) \\\n",
    "        and (event_phases[tr.stats.station].keys().__contains__('P')):\n",
    "            trn+=1\n",
    "            now_st = tr.stats.station\n",
    "            now_net = tr.stats.network\n",
    "            tn = now_st + '.' + now_net + '_' + fn.split('.')[1] +'.'+ fn.split('.')[2] + '_EV'\n",
    "            p_t = event_phases[now_st]['P']-8*3600\n",
    "            start_time_str = (p_t-10).strftime('%Y-%m-%d %H:%M:%S.%f')\n",
    "            temp_tr = tr.slice(p_t-10+0.01, p_t+50)\n",
    "            temp_tr.detrend()\n",
    "            temp_tr.filter(\"bandpass\", freqmin=3.0,freqmax=20)\n",
    "            temp_tr.normalize()\n",
    "            td = temp_tr.data.reshape(1,6000)\n",
    "            if (trn == 1):\n",
    "                trs_data = np.zeros((1,6000))\n",
    "                trs_data[0,:] = td\n",
    "                trs_name_temp = []\n",
    "                sts = []\n",
    "            else:\n",
    "                trs_data = np.concatenate((trs_data, td),axis = 0)\n",
    "            trs_name_temp.append(tn)\n",
    "            sts.append(start_time_str)\n",
    "#         break\n",
    "#     break\n",
    "trs_data=trs_data.reshape(-1,3,6000)\n",
    "trs_name = []\n",
    "f = h5py.File(\"../data/prediction/traces.hdf5\",\"w\")\n",
    "data = f.create_group('data')\n",
    "for i in range(trs_data.shape[0]):\n",
    "    trs_name.append(trs_name_temp[i*3])\n",
    "    dsF = data.create_dataset(trs_name[i],data=trs_data[i,:,:].transpose(),dtype=np.dtype('<f4'))\n",
    "    dsF.attrs[\"trace_name\"] = trs_name[i]\n",
    "    dsF.attrs[\"receiver_code\"] = trs_name[i].split('.')[0]\n",
    "    dsF.attrs[\"network_code\"] = trs_name[i].split('.')[1].split('_')[0]\n",
    "    dsF.attrs[\"receiver_latitude\"] = '-999'\n",
    "    dsF.attrs[\"receiver_longitude\"] = '-999'\n",
    "    dsF.attrs[\"receiver_elevation_m\"] = '-999'\n",
    "    dsF.attrs['trace_start_time'] = sts[i*3]\n",
    "f.close()"
   ]
  },
  {
   "cell_type": "code",
   "execution_count": 3,
   "metadata": {},
   "outputs": [],
   "source": [
    "csvfile = open(os.path.join(pre_dir, \"traces.csv\"), 'w',newline='')\n",
    "output_writer = csv.writer(csvfile, delimiter=',', quotechar='\"', quoting=csv.QUOTE_MINIMAL)\n",
    "output_writer.writerow(['trace_name'])\n",
    "for i in range(trs_data.shape[0]):\n",
    "    output_writer.writerow([trs_name[i]])\n",
    "    csvfile.flush()\n",
    "csvfile.close()"
   ]
  },
  {
   "cell_type": "code",
   "execution_count": 5,
   "metadata": {},
   "outputs": [
    {
     "name": "stdout",
     "output_type": "stream",
     "text": [
      "ZHX.GD_201701012309.0001_EV\n"
     ]
    },
    {
     "data": {
      "text/plain": [
       "[<matplotlib.lines.Line2D at 0x7f7929d13910>]"
      ]
     },
     "execution_count": 5,
     "metadata": {},
     "output_type": "execute_result"
    },
    {
     "data": {
      "image/png": "[encoded data removed]",
      "text/plain": [
       "<Figure size 432x288 with 1 Axes>"
      ]
     },
     "metadata": {
      "needs_background": "light"
     },
     "output_type": "display_data"
    }
   ],
   "source": [
    "print(trs_name[4])\n",
    "plt.plot(trs_data[4,0,:])"
   ]
  }
 ],
 "metadata": {
  "kernelspec": {
   "display_name": "Python 3",
   "language": "python",
   "name": "python3"
  },
  "language_info": {
   "codemirror_mode": {
    "name": "ipython",
    "version": 3
   },
   "file_extension": ".py",
   "mimetype": "text/x-python",
   "name": "python",
   "nbconvert_exporter": "python",
   "pygments_lexer": "ipython3",
   "version": "3.7.8"
  }
 },
 "nbformat": 4,
 "nbformat_minor": 4
}
