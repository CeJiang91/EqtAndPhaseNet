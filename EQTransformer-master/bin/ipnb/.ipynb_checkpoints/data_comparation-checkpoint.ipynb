{
 "cells": [
  {
   "cell_type": "code",
   "execution_count": 75,
   "metadata": {},
   "outputs": [],
   "source": [
    "import time\n",
    "start = time.process_time()\n",
    "from obspy import read\n",
    "import numpy as np\n",
    "import pandas as pd\n",
    "import glob\n",
    "import os, math\n",
    "import matplotlib.pyplot as plt\n",
    "import h5py\n",
    "import csv\n",
    "from os.path import join\n",
    "from datetime import datetime, timedelta\n",
    "\n",
    "\n",
    "train_data_path = r'../data/train_data/'\n",
    "net_phases = np.load('../data/train_data/seismic_phase.npy',allow_pickle=True).item()\n",
    "output_dir='../detections_xfj'\n",
    "save_dir = os.path.join(out_dir, 'traces_outputs')"
   ]
  },
  {
   "cell_type": "code",
   "execution_count": 76,
   "metadata": {},
   "outputs": [],
   "source": [
    "dd = pd.read_csv(os.path.join(save_dir,'X_prediction_results.csv'))"
   ]
  },
  {
   "cell_type": "code",
   "execution_count": 80,
   "metadata": {},
   "outputs": [
    {
     "data": {
      "text/plain": [
       "nan"
      ]
     },
     "execution_count": 80,
     "metadata": {},
     "output_type": "execute_result"
    }
   ],
   "source": [
    "dd.values[0][10]"
   ]
  },
  {
   "cell_type": "code",
   "execution_count": 92,
   "metadata": {},
   "outputs": [
    {
     "data": {
      "text/plain": [
       "False"
      ]
     },
     "execution_count": 92,
     "metadata": {},
     "output_type": "execute_result"
    }
   ],
   "source": [
    "dir(net_phases[fn]['DFH']).__contains__('S')"
   ]
  },
  {
   "cell_type": "code",
   "execution_count": 94,
   "metadata": {},
   "outputs": [
    {
     "data": {
      "text/plain": [
       "False"
      ]
     },
     "execution_count": 94,
     "metadata": {},
     "output_type": "execute_result"
    }
   ],
   "source": [
    "'P' in net_phases[fn]['DFH']"
   ]
  },
  {
   "cell_type": "markdown",
   "metadata": {},
   "source": [
    "比较时兼顾以下情况：1.auto有，manu无；2.manu有，auto无；3.二者都有"
   ]
  },
  {
   "cell_type": "code",
   "execution_count": 78,
   "metadata": {},
   "outputs": [],
   "source": [
    "for i in range(len(dd)):\n",
    "    Pauto = datetime.strptime(dd.values[i][11], '%Y-%m-%d %H:%M:%S.%f')\n",
    "    Sauto = datetime.strptime(dd.values[i][15], '%Y-%m-%d %H:%M:%S.%f')\n",
    "    fn = dd.values[i][1]+'.'+dd.values[i][0].split('_')[1]\n",
    "    st = dd.values[i][2].strip()\n",
    "    if 'P' in net_phases[fn]['DFH']:\n",
    "        Pmanu = net_phases[fn][st]['P]\n",
    "    if 'S' in net_phases[fn]['DFH']:\n",
    "        manu = net_phases[fn][st]['S]\n",
    "    break"
   ]
  }
 ],
 "metadata": {
  "kernelspec": {
   "display_name": "Python 3",
   "language": "python",
   "name": "python3"
  },
  "language_info": {
   "codemirror_mode": {
    "name": "ipython",
    "version": 3
   },
   "file_extension": ".py",
   "mimetype": "text/x-python",
   "name": "python",
   "nbconvert_exporter": "python",
   "pygments_lexer": "ipython3",
   "version": "3.7.8"
  }
 },
 "nbformat": 4,
 "nbformat_minor": 4
}
