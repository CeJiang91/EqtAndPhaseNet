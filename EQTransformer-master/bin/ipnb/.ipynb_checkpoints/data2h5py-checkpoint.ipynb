{
 "cells": [
  {
   "cell_type": "code",
   "execution_count": 1,
   "metadata": {},
   "outputs": [],
   "source": [
    "import time\n",
    "start = time.process_time()\n",
    "from obspy import read\n",
    "import numpy as np\n",
    "import glob\n",
    "import os, math\n",
    "import matplotlib.pyplot as plt\n",
    "import h5py\n",
    "import csv\n",
    "from os.path import join\n",
    "\n",
    "seed_path = r'../data/wave100'\n",
    "pre_dir = '../data/prediction'\n",
    "train_data_path = r'../data/train_data/'\n",
    "seed_files = glob.glob(r'%s/*.seed' %seed_path) \n",
    "net_phases = np.load('../data/train_data/seismic_phase.npy',allow_pickle=True).item()"
   ]
  },
  {
   "cell_type": "markdown",
   "metadata": {},
   "source": [
    "# 数据处理逻辑\n",
    "1.读取文件名,波形数据和文件（事件）对应的震相数据\n",
    "2.遍历波形\n",
    "3.若该文件（事件）对应的震相数据中包含波形对应的台站，且其震相类型为P，则保存该数据\n",
    "4.波形序列号为trn，P波到时为p_t,波形范围是[pt-10,pt+50]，故pt在截取后对应点为1001\n",
    "5.预处理（去倾，滤波，归一化），滤波频带为[3,20]"
   ]
  },
  {
   "cell_type": "code",
   "execution_count": 12,
   "metadata": {},
   "outputs": [
    {
     "data": {
      "text/plain": [
       "'GD.201701060300.0001'"
      ]
     },
     "execution_count": 12,
     "metadata": {},
     "output_type": "execute_result"
    }
   ],
   "source": [
    "fn"
   ]
  },
  {
   "cell_type": "code",
   "execution_count": 2,
   "metadata": {
    "scrolled": true
   },
   "outputs": [
    {
     "ename": "OSError",
     "evalue": "Unable to create link (name already exists)",
     "output_type": "error",
     "traceback": [
      "\u001b[0;31m---------------------------------------------------------------------------\u001b[0m",
      "\u001b[0;31mOSError\u001b[0m                                   Traceback (most recent call last)",
      "\u001b[0;32m<ipython-input-2-ebf6d12a3349>\u001b[0m in \u001b[0;36m<module>\u001b[0;34m\u001b[0m\n\u001b[1;32m     34\u001b[0m \u001b[0;32mfor\u001b[0m \u001b[0mi\u001b[0m \u001b[0;32min\u001b[0m \u001b[0mrange\u001b[0m\u001b[0;34m(\u001b[0m\u001b[0mtrs_data\u001b[0m\u001b[0;34m.\u001b[0m\u001b[0mshape\u001b[0m\u001b[0;34m[\u001b[0m\u001b[0;36m0\u001b[0m\u001b[0;34m]\u001b[0m\u001b[0;34m)\u001b[0m\u001b[0;34m:\u001b[0m\u001b[0;34m\u001b[0m\u001b[0;34m\u001b[0m\u001b[0m\n\u001b[1;32m     35\u001b[0m     \u001b[0mtrs_name\u001b[0m\u001b[0;34m.\u001b[0m\u001b[0mappend\u001b[0m\u001b[0;34m(\u001b[0m\u001b[0mtrs_name_temp\u001b[0m\u001b[0;34m[\u001b[0m\u001b[0mi\u001b[0m\u001b[0;34m*\u001b[0m\u001b[0;36m3\u001b[0m\u001b[0;34m]\u001b[0m\u001b[0;34m)\u001b[0m\u001b[0;34m\u001b[0m\u001b[0;34m\u001b[0m\u001b[0m\n\u001b[0;32m---> 36\u001b[0;31m     \u001b[0mdsF\u001b[0m \u001b[0;34m=\u001b[0m \u001b[0mdata\u001b[0m\u001b[0;34m.\u001b[0m\u001b[0mcreate_dataset\u001b[0m\u001b[0;34m(\u001b[0m\u001b[0mtrs_name\u001b[0m\u001b[0;34m[\u001b[0m\u001b[0mi\u001b[0m\u001b[0;34m]\u001b[0m\u001b[0;34m,\u001b[0m\u001b[0mdata\u001b[0m\u001b[0;34m=\u001b[0m\u001b[0mtrs_data\u001b[0m\u001b[0;34m[\u001b[0m\u001b[0mi\u001b[0m\u001b[0;34m,\u001b[0m\u001b[0;34m:\u001b[0m\u001b[0;34m,\u001b[0m\u001b[0;34m:\u001b[0m\u001b[0;34m]\u001b[0m\u001b[0;34m.\u001b[0m\u001b[0mtranspose\u001b[0m\u001b[0;34m(\u001b[0m\u001b[0;34m)\u001b[0m\u001b[0;34m,\u001b[0m\u001b[0mdtype\u001b[0m\u001b[0;34m=\u001b[0m\u001b[0mnp\u001b[0m\u001b[0;34m.\u001b[0m\u001b[0mdtype\u001b[0m\u001b[0;34m(\u001b[0m\u001b[0;34m'<f4'\u001b[0m\u001b[0;34m)\u001b[0m\u001b[0;34m)\u001b[0m\u001b[0;34m\u001b[0m\u001b[0;34m\u001b[0m\u001b[0m\n\u001b[0m\u001b[1;32m     37\u001b[0m     \u001b[0mdsF\u001b[0m\u001b[0;34m.\u001b[0m\u001b[0mattrs\u001b[0m\u001b[0;34m[\u001b[0m\u001b[0;34m\"trace_name\"\u001b[0m\u001b[0;34m]\u001b[0m \u001b[0;34m=\u001b[0m \u001b[0mtrs_name\u001b[0m\u001b[0;34m[\u001b[0m\u001b[0mi\u001b[0m\u001b[0;34m]\u001b[0m\u001b[0;34m\u001b[0m\u001b[0;34m\u001b[0m\u001b[0m\n\u001b[1;32m     38\u001b[0m     \u001b[0mdsF\u001b[0m\u001b[0;34m.\u001b[0m\u001b[0mattrs\u001b[0m\u001b[0;34m[\u001b[0m\u001b[0;34m\"receiver_code\"\u001b[0m\u001b[0;34m]\u001b[0m \u001b[0;34m=\u001b[0m \u001b[0mtrs_name\u001b[0m\u001b[0;34m[\u001b[0m\u001b[0mi\u001b[0m\u001b[0;34m]\u001b[0m\u001b[0;34m.\u001b[0m\u001b[0msplit\u001b[0m\u001b[0;34m(\u001b[0m\u001b[0;34m'.'\u001b[0m\u001b[0;34m)\u001b[0m\u001b[0;34m[\u001b[0m\u001b[0;36m0\u001b[0m\u001b[0;34m]\u001b[0m\u001b[0;34m\u001b[0m\u001b[0;34m\u001b[0m\u001b[0m\n",
      "\u001b[0;32m~/anaconda3/envs/eqt/lib/python3.7/site-packages/h5py/_hl/group.py\u001b[0m in \u001b[0;36mcreate_dataset\u001b[0;34m(self, name, shape, dtype, data, **kwds)\u001b[0m\n\u001b[1;32m    137\u001b[0m             \u001b[0mdset\u001b[0m \u001b[0;34m=\u001b[0m \u001b[0mdataset\u001b[0m\u001b[0;34m.\u001b[0m\u001b[0mDataset\u001b[0m\u001b[0;34m(\u001b[0m\u001b[0mdsid\u001b[0m\u001b[0;34m)\u001b[0m\u001b[0;34m\u001b[0m\u001b[0;34m\u001b[0m\u001b[0m\n\u001b[1;32m    138\u001b[0m             \u001b[0;32mif\u001b[0m \u001b[0mname\u001b[0m \u001b[0;32mis\u001b[0m \u001b[0;32mnot\u001b[0m \u001b[0;32mNone\u001b[0m\u001b[0;34m:\u001b[0m\u001b[0;34m\u001b[0m\u001b[0;34m\u001b[0m\u001b[0m\n\u001b[0;32m--> 139\u001b[0;31m                 \u001b[0mself\u001b[0m\u001b[0;34m[\u001b[0m\u001b[0mname\u001b[0m\u001b[0;34m]\u001b[0m \u001b[0;34m=\u001b[0m \u001b[0mdset\u001b[0m\u001b[0;34m\u001b[0m\u001b[0;34m\u001b[0m\u001b[0m\n\u001b[0m\u001b[1;32m    140\u001b[0m             \u001b[0;32mreturn\u001b[0m \u001b[0mdset\u001b[0m\u001b[0;34m\u001b[0m\u001b[0;34m\u001b[0m\u001b[0m\n\u001b[1;32m    141\u001b[0m \u001b[0;34m\u001b[0m\u001b[0m\n",
      "\u001b[0;32m~/anaconda3/envs/eqt/lib/python3.7/site-packages/h5py/_hl/group.py\u001b[0m in \u001b[0;36m__setitem__\u001b[0;34m(self, name, obj)\u001b[0m\n\u001b[1;32m    371\u001b[0m \u001b[0;34m\u001b[0m\u001b[0m\n\u001b[1;32m    372\u001b[0m             \u001b[0;32mif\u001b[0m \u001b[0misinstance\u001b[0m\u001b[0;34m(\u001b[0m\u001b[0mobj\u001b[0m\u001b[0;34m,\u001b[0m \u001b[0mHLObject\u001b[0m\u001b[0;34m)\u001b[0m\u001b[0;34m:\u001b[0m\u001b[0;34m\u001b[0m\u001b[0;34m\u001b[0m\u001b[0m\n\u001b[0;32m--> 373\u001b[0;31m                 \u001b[0mh5o\u001b[0m\u001b[0;34m.\u001b[0m\u001b[0mlink\u001b[0m\u001b[0;34m(\u001b[0m\u001b[0mobj\u001b[0m\u001b[0;34m.\u001b[0m\u001b[0mid\u001b[0m\u001b[0;34m,\u001b[0m \u001b[0mself\u001b[0m\u001b[0;34m.\u001b[0m\u001b[0mid\u001b[0m\u001b[0;34m,\u001b[0m \u001b[0mname\u001b[0m\u001b[0;34m,\u001b[0m \u001b[0mlcpl\u001b[0m\u001b[0;34m=\u001b[0m\u001b[0mlcpl\u001b[0m\u001b[0;34m,\u001b[0m \u001b[0mlapl\u001b[0m\u001b[0;34m=\u001b[0m\u001b[0mself\u001b[0m\u001b[0;34m.\u001b[0m\u001b[0m_lapl\u001b[0m\u001b[0;34m)\u001b[0m\u001b[0;34m\u001b[0m\u001b[0;34m\u001b[0m\u001b[0m\n\u001b[0m\u001b[1;32m    374\u001b[0m \u001b[0;34m\u001b[0m\u001b[0m\n\u001b[1;32m    375\u001b[0m             \u001b[0;32melif\u001b[0m \u001b[0misinstance\u001b[0m\u001b[0;34m(\u001b[0m\u001b[0mobj\u001b[0m\u001b[0;34m,\u001b[0m \u001b[0mSoftLink\u001b[0m\u001b[0;34m)\u001b[0m\u001b[0;34m:\u001b[0m\u001b[0;34m\u001b[0m\u001b[0;34m\u001b[0m\u001b[0m\n",
      "\u001b[0;32mh5py/_objects.pyx\u001b[0m in \u001b[0;36mh5py._objects.with_phil.wrapper\u001b[0;34m()\u001b[0m\n",
      "\u001b[0;32mh5py/_objects.pyx\u001b[0m in \u001b[0;36mh5py._objects.with_phil.wrapper\u001b[0;34m()\u001b[0m\n",
      "\u001b[0;32mh5py/h5o.pyx\u001b[0m in \u001b[0;36mh5py.h5o.link\u001b[0;34m()\u001b[0m\n",
      "\u001b[0;31mOSError\u001b[0m: Unable to create link (name already exists)"
     ]
    }
   ],
   "source": [
    "trn = 0\n",
    "for file in seed_files:\n",
    "    fn=os.path.basename(file).split('.seed')[0]\n",
    "    waves = read(file)\n",
    "    event_phases = net_phases[fn]\n",
    "    for tr in waves:\n",
    "        if (event_phases.keys().__contains__(tr.stats.station)) \\\n",
    "        and (event_phases[tr.stats.station].keys().__contains__('P')):\n",
    "            trn+=1\n",
    "            now_st = tr.stats.station\n",
    "            now_net = tr.stats.network\n",
    "            start_time_str = tr.stats.starttime.strftime('%Y-%m-%d %H:%M:%S.%f')\n",
    "            tn = now_st + '.' + now_net + '_' + fn.split('.')[1] + fn.split('.')[2] + '_EV'\n",
    "            p_t = event_phases[now_st]['P']-8*3600\n",
    "            temp_tr = tr.slice(p_t-10+0.01, p_t+50)\n",
    "            temp_tr.detrend()\n",
    "            temp_tr.filter(\"bandpass\", freqmin=3.0,freqmax=20)\n",
    "            temp_tr.normalize()\n",
    "            td = temp_tr.data.reshape(1,6000)\n",
    "            if (trn == 1):\n",
    "                trs_data = np.zeros((1,6000))\n",
    "                trs_data[0,:] = td\n",
    "                trs_name_temp = []\n",
    "                sts = []\n",
    "            else:\n",
    "                trs_data = np.concatenate((trs_data, td),axis = 0)\n",
    "            trs_name_temp.append(tn)\n",
    "            sts.append(start_time_str)\n",
    "    #break\n",
    "trs_data=trs_data.reshape(-1,3,6000)\n",
    "trs_name = []\n",
    "f = h5py.File(\"../data/prediction/traces.hdf5\",\"w\")\n",
    "data = f.create_group('data')\n",
    "for i in range(trs_data.shape[0]):\n",
    "    trs_name.append(trs_name_temp[i*3])\n",
    "    dsF = data.create_dataset(trs_name[i],data=trs_data[i,:,:].transpose(),dtype=np.dtype('<f4'))\n",
    "    dsF.attrs[\"trace_name\"] = trs_name[i]\n",
    "    dsF.attrs[\"receiver_code\"] = trs_name[i].split('.')[0]\n",
    "    dsF.attrs[\"network_code\"] = trs_name[i].split('.')[1].split('_')[0]\n",
    "    dsF.attrs[\"receiver_latitude\"] = '-999'\n",
    "    dsF.attrs[\"receiver_longitude\"] = '-999'\n",
    "    dsF.attrs[\"receiver_elevation_m\"] = '-999'\n",
    "    dsF.attrs['trace_start_time'] = sts[i*3]\n",
    "f.close()"
   ]
  },
  {
   "cell_type": "code",
   "execution_count": 10,
   "metadata": {},
   "outputs": [
    {
     "ename": "OSError",
     "evalue": "Unable to create link (name already exists)",
     "output_type": "error",
     "traceback": [
      "\u001b[0;31m---------------------------------------------------------------------------\u001b[0m",
      "\u001b[0;31mOSError\u001b[0m                                   Traceback (most recent call last)",
      "\u001b[0;32m<ipython-input-10-ea057d256c74>\u001b[0m in \u001b[0;36m<module>\u001b[0;34m\u001b[0m\n\u001b[0;32m----> 1\u001b[0;31m \u001b[0mdsF\u001b[0m \u001b[0;34m=\u001b[0m \u001b[0mdata\u001b[0m\u001b[0;34m.\u001b[0m\u001b[0mcreate_dataset\u001b[0m\u001b[0;34m(\u001b[0m\u001b[0mtrs_name\u001b[0m\u001b[0;34m[\u001b[0m\u001b[0mi\u001b[0m\u001b[0;34m]\u001b[0m\u001b[0;34m,\u001b[0m\u001b[0mdata\u001b[0m\u001b[0;34m=\u001b[0m\u001b[0mtrs_data\u001b[0m\u001b[0;34m[\u001b[0m\u001b[0mi\u001b[0m\u001b[0;34m,\u001b[0m\u001b[0;34m:\u001b[0m\u001b[0;34m,\u001b[0m\u001b[0;34m:\u001b[0m\u001b[0;34m]\u001b[0m\u001b[0;34m.\u001b[0m\u001b[0mtranspose\u001b[0m\u001b[0;34m(\u001b[0m\u001b[0;34m)\u001b[0m\u001b[0;34m,\u001b[0m\u001b[0mdtype\u001b[0m\u001b[0;34m=\u001b[0m\u001b[0mnp\u001b[0m\u001b[0;34m.\u001b[0m\u001b[0mdtype\u001b[0m\u001b[0;34m(\u001b[0m\u001b[0;34m'<f4'\u001b[0m\u001b[0;34m)\u001b[0m\u001b[0;34m)\u001b[0m\u001b[0;34m\u001b[0m\u001b[0;34m\u001b[0m\u001b[0m\n\u001b[0m",
      "\u001b[0;32m~/anaconda3/envs/eqt/lib/python3.7/site-packages/h5py/_hl/group.py\u001b[0m in \u001b[0;36mcreate_dataset\u001b[0;34m(self, name, shape, dtype, data, **kwds)\u001b[0m\n\u001b[1;32m    137\u001b[0m             \u001b[0mdset\u001b[0m \u001b[0;34m=\u001b[0m \u001b[0mdataset\u001b[0m\u001b[0;34m.\u001b[0m\u001b[0mDataset\u001b[0m\u001b[0;34m(\u001b[0m\u001b[0mdsid\u001b[0m\u001b[0;34m)\u001b[0m\u001b[0;34m\u001b[0m\u001b[0;34m\u001b[0m\u001b[0m\n\u001b[1;32m    138\u001b[0m             \u001b[0;32mif\u001b[0m \u001b[0mname\u001b[0m \u001b[0;32mis\u001b[0m \u001b[0;32mnot\u001b[0m \u001b[0;32mNone\u001b[0m\u001b[0;34m:\u001b[0m\u001b[0;34m\u001b[0m\u001b[0;34m\u001b[0m\u001b[0m\n\u001b[0;32m--> 139\u001b[0;31m                 \u001b[0mself\u001b[0m\u001b[0;34m[\u001b[0m\u001b[0mname\u001b[0m\u001b[0;34m]\u001b[0m \u001b[0;34m=\u001b[0m \u001b[0mdset\u001b[0m\u001b[0;34m\u001b[0m\u001b[0;34m\u001b[0m\u001b[0m\n\u001b[0m\u001b[1;32m    140\u001b[0m             \u001b[0;32mreturn\u001b[0m \u001b[0mdset\u001b[0m\u001b[0;34m\u001b[0m\u001b[0;34m\u001b[0m\u001b[0m\n\u001b[1;32m    141\u001b[0m \u001b[0;34m\u001b[0m\u001b[0m\n",
      "\u001b[0;32m~/anaconda3/envs/eqt/lib/python3.7/site-packages/h5py/_hl/group.py\u001b[0m in \u001b[0;36m__setitem__\u001b[0;34m(self, name, obj)\u001b[0m\n\u001b[1;32m    371\u001b[0m \u001b[0;34m\u001b[0m\u001b[0m\n\u001b[1;32m    372\u001b[0m             \u001b[0;32mif\u001b[0m \u001b[0misinstance\u001b[0m\u001b[0;34m(\u001b[0m\u001b[0mobj\u001b[0m\u001b[0;34m,\u001b[0m \u001b[0mHLObject\u001b[0m\u001b[0;34m)\u001b[0m\u001b[0;34m:\u001b[0m\u001b[0;34m\u001b[0m\u001b[0;34m\u001b[0m\u001b[0m\n\u001b[0;32m--> 373\u001b[0;31m                 \u001b[0mh5o\u001b[0m\u001b[0;34m.\u001b[0m\u001b[0mlink\u001b[0m\u001b[0;34m(\u001b[0m\u001b[0mobj\u001b[0m\u001b[0;34m.\u001b[0m\u001b[0mid\u001b[0m\u001b[0;34m,\u001b[0m \u001b[0mself\u001b[0m\u001b[0;34m.\u001b[0m\u001b[0mid\u001b[0m\u001b[0;34m,\u001b[0m \u001b[0mname\u001b[0m\u001b[0;34m,\u001b[0m \u001b[0mlcpl\u001b[0m\u001b[0;34m=\u001b[0m\u001b[0mlcpl\u001b[0m\u001b[0;34m,\u001b[0m \u001b[0mlapl\u001b[0m\u001b[0;34m=\u001b[0m\u001b[0mself\u001b[0m\u001b[0;34m.\u001b[0m\u001b[0m_lapl\u001b[0m\u001b[0;34m)\u001b[0m\u001b[0;34m\u001b[0m\u001b[0;34m\u001b[0m\u001b[0m\n\u001b[0m\u001b[1;32m    374\u001b[0m \u001b[0;34m\u001b[0m\u001b[0m\n\u001b[1;32m    375\u001b[0m             \u001b[0;32melif\u001b[0m \u001b[0misinstance\u001b[0m\u001b[0;34m(\u001b[0m\u001b[0mobj\u001b[0m\u001b[0;34m,\u001b[0m \u001b[0mSoftLink\u001b[0m\u001b[0;34m)\u001b[0m\u001b[0;34m:\u001b[0m\u001b[0;34m\u001b[0m\u001b[0;34m\u001b[0m\u001b[0m\n",
      "\u001b[0;32mh5py/_objects.pyx\u001b[0m in \u001b[0;36mh5py._objects.with_phil.wrapper\u001b[0;34m()\u001b[0m\n",
      "\u001b[0;32mh5py/_objects.pyx\u001b[0m in \u001b[0;36mh5py._objects.with_phil.wrapper\u001b[0;34m()\u001b[0m\n",
      "\u001b[0;32mh5py/h5o.pyx\u001b[0m in \u001b[0;36mh5py.h5o.link\u001b[0;34m()\u001b[0m\n",
      "\u001b[0;31mOSError\u001b[0m: Unable to create link (name already exists)"
     ]
    }
   ],
   "source": [
    "dsF = data.create_dataset(trs_name[i],data=trs_data[i,:,:].transpose(),dtype=np.dtype('<f4'))"
   ]
  },
  {
   "cell_type": "code",
   "execution_count": 5,
   "metadata": {},
   "outputs": [
    {
     "data": {
      "text/plain": [
       "'HYJ.GD_201701020323_EV'"
      ]
     },
     "execution_count": 5,
     "metadata": {},
     "output_type": "execute_result"
    }
   ],
   "source": [
    "trs_name[i]"
   ]
  },
  {
   "cell_type": "code",
   "execution_count": 9,
   "metadata": {},
   "outputs": [
    {
     "data": {
      "text/plain": [
       "<KeysViewHDF5 ['BLT.GD_201701012309_EV', 'BLT.GD_201701012310_EV', 'BLT.GD_201701020035_EV', 'BLT.GD_201701020116_EV', 'BLT.GD_201701020121_EV', 'BLT.GD_201701020137_EV', 'BLT.GD_201701020205_EV', 'BLT.GD_201701020255_EV', 'BLT.GD_201701020323_EV', 'DFH.GD_201701020035_EV', 'DFH.GD_201701020116_EV', 'DFH.GD_201701020137_EV', 'DFH.GD_201701020255_EV', 'DOX.GD_201701012309_EV', 'DOX.GD_201701012310_EV', 'DOX.GD_201701020035_EV', 'DOX.GD_201701020049_EV', 'DOX.GD_201701020116_EV', 'DOX.GD_201701020119_EV', 'DOX.GD_201701020121_EV', 'DOX.GD_201701020137_EV', 'DOX.GD_201701020205_EV', 'DOX.GD_201701020255_EV', 'DOX.GD_201701020313_EV', 'DOX.GD_201701020323_EV', 'DOY.GD_201701012309_EV', 'DOY.GD_201701012310_EV', 'DOY.GD_201701020035_EV', 'DOY.GD_201701020049_EV', 'DOY.GD_201701020116_EV', 'DOY.GD_201701020119_EV', 'DOY.GD_201701020121_EV', 'DOY.GD_201701020137_EV', 'DOY.GD_201701020200_EV', 'DOY.GD_201701020205_EV', 'DOY.GD_201701020255_EV', 'DOY.GD_201701020313_EV', 'DOY.GD_201701020323_EV', 'GUL.GD_201701012309_EV', 'GUL.GD_201701012310_EV', 'GUL.GD_201701020035_EV', 'GUL.GD_201701020116_EV', 'GUL.GD_201701020137_EV', 'GUL.GD_201701020255_EV', 'HEP.GD_201701020255_EV', 'HUZ.GD_201701020035_EV', 'HYJ.GD_201701012309_EV', 'HYJ.GD_201701012310_EV', 'HYJ.GD_201701020035_EV', 'HYJ.GD_201701020049_EV', 'HYJ.GD_201701020116_EV', 'HYJ.GD_201701020119_EV', 'HYJ.GD_201701020121_EV', 'HYJ.GD_201701020137_EV', 'HYJ.GD_201701020200_EV', 'HYJ.GD_201701020205_EV', 'HYJ.GD_201701020255_EV', 'HYJ.GD_201701020313_EV', 'HYJ.GD_201701020323_EV', 'LIP.GD_201701012309_EV', 'LIP.GD_201701012310_EV', 'LIP.GD_201701020035_EV', 'LIP.GD_201701020116_EV', 'LTK.GD_201701012310_EV', 'LTK.GD_201701020035_EV', 'LTK.GD_201701020116_EV', 'LTK.GD_201701020255_EV', 'LVY.GD_201701012309_EV', 'LVY.GD_201701012310_EV', 'LVY.GD_201701020035_EV', 'LVY.GD_201701020049_EV', 'LVY.GD_201701020116_EV', 'LVY.GD_201701020121_EV', 'LVY.GD_201701020137_EV', 'LVY.GD_201701020200_EV', 'LVY.GD_201701020205_EV', 'LVY.GD_201701020255_EV', 'LVY.GD_201701020313_EV', 'LVY.GD_201701020323_EV', 'QZI.GD_201701012309_EV', 'QZI.GD_201701012310_EV', 'QZI.GD_201701020035_EV', 'QZI.GD_201701020049_EV', 'QZI.GD_201701020116_EV', 'QZI.GD_201701020119_EV', 'QZI.GD_201701020121_EV', 'QZI.GD_201701020137_EV', 'QZI.GD_201701020200_EV', 'QZI.GD_201701020205_EV', 'QZI.GD_201701020255_EV', 'QZI.GD_201701020313_EV', 'QZI.GD_201701020323_EV', 'XFJ.GD_201701012309_EV', 'XFJ.GD_201701012310_EV', 'XFJ.GD_201701020035_EV', 'XFJ.GD_201701020116_EV', 'XFJ.GD_201701020119_EV', 'XFJ.GD_201701020137_EV', 'XFJ.GD_201701020255_EV', 'XFJ.GD_201701020323_EV', 'YAM.GD_201701012309_EV', 'YAM.GD_201701012310_EV', 'YAM.GD_201701020035_EV', 'YAM.GD_201701020049_EV', 'YAM.GD_201701020116_EV', 'YAM.GD_201701020121_EV', 'YAM.GD_201701020137_EV', 'YAM.GD_201701020205_EV', 'YAM.GD_201701020255_EV', 'YAM.GD_201701020313_EV', 'YAM.GD_201701020323_EV', 'ZHX.GD_201701012309_EV', 'ZHX.GD_201701012310_EV', 'ZHX.GD_201701020035_EV', 'ZHX.GD_201701020049_EV', 'ZHX.GD_201701020116_EV', 'ZHX.GD_201701020119_EV', 'ZHX.GD_201701020121_EV', 'ZHX.GD_201701020137_EV', 'ZHX.GD_201701020200_EV', 'ZHX.GD_201701020205_EV', 'ZHX.GD_201701020255_EV', 'ZHX.GD_201701020313_EV', 'ZHX.GD_201701020323_EV', 'ZIJ.GD_201701020116_EV']>"
      ]
     },
     "execution_count": 9,
     "metadata": {},
     "output_type": "execute_result"
    }
   ],
   "source": [
    "data.keys()"
   ]
  },
  {
   "cell_type": "code",
   "execution_count": null,
   "metadata": {},
   "outputs": [],
   "source": [
    "csvfile = open(os.path.join(pre_dir, \"traces.csv\"), 'w',newline='')\n",
    "output_writer = csv.writer(csvfile, delimiter=',', quotechar='\"', quoting=csv.QUOTE_MINIMAL)\n",
    "output_writer.writerow(['trace_name'])\n",
    "for i in range(trs_data.shape[0]):\n",
    "    output_writer.writerow([trs_name[i]])\n",
    "    csvfile.flush()\n",
    "csvfile.close()"
   ]
  },
  {
   "cell_type": "code",
   "execution_count": null,
   "metadata": {},
   "outputs": [],
   "source": [
    "print(trs_name[4])\n",
    "plt.plot(trs_data[4,0,:])"
   ]
  }
 ],
 "metadata": {
  "kernelspec": {
   "display_name": "Python 3",
   "language": "python",
   "name": "python3"
  },
  "language_info": {
   "codemirror_mode": {
    "name": "ipython",
    "version": 3
   },
   "file_extension": ".py",
   "mimetype": "text/x-python",
   "name": "python",
   "nbconvert_exporter": "python",
   "pygments_lexer": "ipython3",
   "version": "3.7.8"
  }
 },
 "nbformat": 4,
 "nbformat_minor": 4
}
