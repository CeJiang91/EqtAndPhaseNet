{
 "cells": [
  {
   "cell_type": "code",
   "execution_count": 6,
   "metadata": {},
   "outputs": [],
   "source": [
    "from obspy import UTCDateTime\n",
    "import numpy as np\n",
    "import os\n",
    "import glob"
   ]
  },
  {
   "cell_type": "markdown",
   "metadata": {},
   "source": [
    "# 读取震相，输出npy文件"
   ]
  },
  {
   "cell_type": "code",
   "execution_count": 7,
   "metadata": {},
   "outputs": [],
   "source": [
    "readpath=r'..\\data\\ph'\n",
    "savepath=r'..\\data\\train_data'\n",
    "files=glob.glob(r'%s\\*.phase' %readpath)"
   ]
  },
  {
   "cell_type": "code",
   "execution_count": 8,
   "metadata": {},
   "outputs": [],
   "source": [
    "phase = {}\n",
    "for file in files:\n",
    "    fn=os.path.basename(file).split('.phase')[0]  #获取文件名\n",
    "    f = open(file)\n",
    "    lines = f.readlines()\n",
    "    for i in range(3):\n",
    "        lines.pop(0)\n",
    "    for line in lines:\n",
    "        if line.__eq__('#Station Magnitudes:\\n'):\n",
    "            break\n",
    "        words = line.split()\n",
    "        arrival = UTCDateTime(words[4]+' '+words[5])\n",
    "        st = words[0].split('.')[1]\n",
    "        #words[7] is weight. We skip the loop when the weight is zero and distance larger than 2°.\n",
    "        if (words[7]!='1.0') or (float(words[1])>2):\n",
    "            continue\n",
    "        if (words[3].rfind('Pn')!=-1):\n",
    "            phasetype = 'P'\n",
    "        elif (words[3].rfind('Pg')!=-1):\n",
    "            phasetype = 'P'\n",
    "        elif (words[3].rfind('Sg')!=-1):\n",
    "            phasetype = 'S'\n",
    "        else:\n",
    "            continue\n",
    "        #Initializing.\n",
    "        if (not phase.__contains__(fn)):\n",
    "            phase[fn] = {}\n",
    "        if (not phase[fn].__contains__(st)):\n",
    "            phase[fn][st] = {}\n",
    "        if (phase[fn][st].__contains__(phasetype)):\n",
    "            phase[fn][st][phasetype] = min(arrival,phase[fn][st][phasetype])\n",
    "        else:\n",
    "            phase[fn][st][phasetype] = arrival\n",
    "    #break\n",
    "np.save(savepath+'\\\\'+'seismic_phases',phase)"
   ]
  }
 ],
 "metadata": {
  "kernelspec": {
   "display_name": "Python 3",
   "language": "python",
   "name": "python3"
  },
  "language_info": {
   "codemirror_mode": {
    "name": "ipython",
    "version": 3
   },
   "file_extension": ".py",
   "mimetype": "text/x-python",
   "name": "python",
   "nbconvert_exporter": "python",
   "pygments_lexer": "ipython3",
   "version": "3.7.8"
  }
 },
 "nbformat": 4,
 "nbformat_minor": 4
}
